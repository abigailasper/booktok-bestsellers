{
 "cells": [
  {
   "cell_type": "code",
   "execution_count": 17,
   "id": "fd81d5f0",
   "metadata": {},
   "outputs": [],
   "source": [
    "from selenium import webdriver\n",
    "from selenium.webdriver.common.keys import Keys\n",
    "from selenium.webdriver.common.by import By\n",
    "from webdriver_manager.chrome import ChromeDriverManager\n",
    "import requests\n",
    "from bs4 import BeautifulSoup as BS\n",
    "import re"
   ]
  },
  {
   "cell_type": "code",
   "execution_count": 2,
   "id": "142bc536",
   "metadata": {},
   "outputs": [
    {
     "name": "stderr",
     "output_type": "stream",
     "text": [
      "\n",
      "\n",
      "====== WebDriver manager ======\n",
      "Current google-chrome version is 102.0.5005\n",
      "Get LATEST chromedriver version for 102.0.5005 google-chrome\n",
      "Driver [/Users/abigailasper/.wdm/drivers/chromedriver/mac64/102.0.5005.61/chromedriver] found in cache\n",
      "/var/folders/kz/f2x26zgj2q5_y3k46h56qkw80000gn/T/ipykernel_49215/1503906442.py:1: DeprecationWarning: executable_path has been deprecated, please pass in a Service object\n",
      "  driver = webdriver.Chrome(ChromeDriverManager().install())\n"
     ]
    }
   ],
   "source": [
    "driver = webdriver.Chrome(ChromeDriverManager().install())"
   ]
  },
  {
   "cell_type": "markdown",
   "id": "949b8395",
   "metadata": {},
   "source": [
    "## log in to GoodReads"
   ]
  },
  {
   "cell_type": "code",
   "execution_count": 3,
   "id": "ca1c6321",
   "metadata": {},
   "outputs": [],
   "source": [
    "driver.get(\"https://www.goodreads.com/user/sign_in\")"
   ]
  },
  {
   "cell_type": "code",
   "execution_count": 4,
   "id": "95fcb4f7",
   "metadata": {},
   "outputs": [
    {
     "name": "stderr",
     "output_type": "stream",
     "text": [
      "/var/folders/kz/f2x26zgj2q5_y3k46h56qkw80000gn/T/ipykernel_49215/3637183351.py:1: DeprecationWarning: find_element_by_link_text is deprecated. Please use find_element(by=By.LINK_TEXT, value=link_text) instead\n",
      "  button = driver.find_element_by_link_text(\"Sign in with email\")\n"
     ]
    }
   ],
   "source": [
    "#select \"sign in with email\" option\n",
    "#https://www.geeksforgeeks.org/click-button-by-text-using-python-and-selenium/\n",
    "button = driver.find_element_by_link_text(\"Sign in with email\")\n",
    "button.click()"
   ]
  },
  {
   "cell_type": "code",
   "execution_count": 7,
   "id": "15904e9d",
   "metadata": {},
   "outputs": [],
   "source": [
    "username = driver.find_element(By.NAME, \"email\")\n",
    "username.send_keys(\"abigailasper@gmail.com\")"
   ]
  },
  {
   "cell_type": "markdown",
   "id": "a5a8642c",
   "metadata": {},
   "source": [
    "### import json & keys file to safely import GoodReads password"
   ]
  },
  {
   "cell_type": "code",
   "execution_count": 9,
   "id": "852322eb",
   "metadata": {},
   "outputs": [],
   "source": [
    "import json"
   ]
  },
  {
   "cell_type": "code",
   "execution_count": 12,
   "id": "9d7ac225",
   "metadata": {},
   "outputs": [],
   "source": [
    "with open('../keys/gr_pw.json') as fi:\n",
    "    credentials = json.load(fi)"
   ]
  },
  {
   "cell_type": "code",
   "execution_count": 13,
   "id": "076a8183",
   "metadata": {},
   "outputs": [],
   "source": [
    "gr_pw = credentials['gr_pw']"
   ]
  },
  {
   "cell_type": "code",
   "execution_count": 14,
   "id": "e45559de",
   "metadata": {},
   "outputs": [],
   "source": [
    "password = driver.find_element(By.NAME, \"password\")\n",
    "password.send_keys(gr_pw)"
   ]
  },
  {
   "cell_type": "code",
   "execution_count": 15,
   "id": "831f0e59",
   "metadata": {},
   "outputs": [],
   "source": [
    "#submit login credentials\n",
    "signin = driver.find_element(By.ID, \"signInSubmit\")\n",
    "signin.click()"
   ]
  },
  {
   "cell_type": "markdown",
   "id": "818b879d",
   "metadata": {},
   "source": [
    "## navigate to desired shelf (Booktok Books) & begin scrape"
   ]
  },
  {
   "cell_type": "code",
   "execution_count": 16,
   "id": "1f219ddc",
   "metadata": {},
   "outputs": [],
   "source": [
    "driver.get(\"https://www.goodreads.com/shelf/show/booktok\")"
   ]
  },
  {
   "cell_type": "code",
   "execution_count": 26,
   "id": "77b692e2",
   "metadata": {},
   "outputs": [
    {
     "name": "stdout",
     "output_type": "stream",
     "text": [
      "[['The Seven Husbands of Evelyn Hugo (Hardcover)', 'Taylor Jenkins Reid'], ['It Ends with Us (Kindle Edition)', 'Colleen Hoover'], ['The Song of Achilles (Paperback)', 'Madeline Miller'], ['The Invisible Life of Addie LaRue (Hardcover)', 'V.E. Schwab'], ['The Cruel Prince (The Folk of the Air, #1)', 'Holly Black'], ['From Blood and Ash (Blood and Ash, #1)', 'Jennifer L. Armentrout'], ['Six of Crows (Six of Crows, #1)', 'Leigh Bardugo'], ['They Both Die at the End (Hardcover)', 'Adam Silvera'], ['A Court of Thorns and Roses (A Court of Thorns and Roses, #1)', 'Sarah J. Maas'], ['Red, White & Royal Blue (Paperback)', 'Casey McQuiston'], ['The Love Hypothesis (Paperback)', 'Ali Hazelwood'], ['Ugly Love (Kindle Edition)', 'Colleen Hoover'], ['We Were Liars (Kindle Edition)', 'E. Lockhart'], ['People We Meet on Vacation (Paperback)', 'Emily Henry'], ['The Spanish Love Deception (ebook)', 'Elena Armas'], ['The Hating Game (ebook)', 'Sally Thorne'], ['Beach Read (Paperback)', 'Emily Henry'], ['Shadow and Bone (The Shadow and Bone Trilogy, #1)', 'Leigh Bardugo'], ['The Inheritance Games (The Inheritance Games, #1)', 'Jennifer Lynn Barnes'], ['These Violent Delights (These Violent Delights #1)', 'Chloe Gong'], ['The Unhoneymooners (Paperback)', 'Christina Lauren'], ['Verity (ebook)', 'Colleen Hoover'], ['Serpent & Dove (Serpent & Dove, #1)', 'Shelby Mahurin'], ['Caraval (Caraval, #1)', 'Stephanie Garber'], ['Circe (Hardcover)', 'Madeline Miller'], ['Kingdom of the Wicked (Kingdom of the Wicked, #1)', 'Kerri Maniscalco'], ['Punk 57 (Kindle Edition)', 'Penelope Douglas'], ['The Shadows Between Us (The Shadows Between Us, #1)', 'Tricia Levenseller'], ['Dance of Thieves (Dance of Thieves, #1)', 'Mary E. Pearson'], ['A Touch of Darkness (Hades & Persephone, #1)', 'Scarlett St. Clair'], ['Shatter Me (Shatter Me, #1)', 'Tahereh Mafi'], [\"A Good Girl's Guide to Murder (A Good Girl's Guide to Murder, #1)\", 'Holly Jackson'], ['Red Queen (Red Queen, #1)', 'Victoria Aveyard'], ['The Midnight Library (Hardcover)', 'Matt Haig'], ['House of Earth and Blood (Crescent City, #1)', 'Sarah J. Maas'], ['Throne of Glass (Throne of Glass, #1)', 'Sarah J. Maas'], ['We Hunt the Flame (Sands of Arawiya, #1)', 'Hafsah Faizal'], ['Daughter of the Pirate King (Daughter of the Pirate King, #1)', 'Tricia Levenseller'], ['Daisy Jones & The Six (Hardcover)', 'Taylor Jenkins Reid'], ['A Court of Mist and Fury (A Court of Thorns and Roses, #2)', 'Sarah J. Maas'], ['Normal People (Hardcover)', 'Sally Rooney'], ['One of Us Is Lying (One of Us is Lying, #1)', 'Karen M. McManus'], ['The Priory of the Orange Tree (Kindle Edition)', 'Samantha Shannon'], ['Crooked Kingdom (Six of Crows, #2)', 'Leigh Bardugo'], ['The Atlas Six (The Atlas, #1)', 'Olivie Blake'], ['To Kill a Kingdom (Hardcover)', 'Alexandra Christo'], ['November 9 (Paperback)', 'Colleen Hoover'], ['The Deal (Off-Campus, #1)', 'Elle Kennedy'], ['Neon Gods (Dark Olympus, #1)', 'Katee Robert'], ['The Selection (The Selection, #1)', 'Kiera Cass'], ['It Happened One Summer (Bellinger Sisters, #1)', 'Tessa Bailey'], ['A Court of Silver Flames (A Court of Thorns and Roses, #4)', 'Sarah J. Maas'], ['A Court of Wings and Ruin (A Court of Thorns and Roses, #3)', 'Sarah J. Maas'], ['Legendborn (The Legendborn Cycle #1)', 'Tracy Deonn'], ['The House in the Cerulean Sea (Kindle Edition)', 'T.J. Klune'], ['A Little Life (Hardcover)', 'Hanya Yanagihara'], ['The Sweetest Oblivion (Made, #1)', 'Danielle Lori'], ['The Wrath and the Dawn (The Wrath and the Dawn, #1)', 'Renée Ahdieh'], ['A Curse So Dark and Lonely (Cursebreakers, #1)', 'Brigid Kemmerer'], ['The Wicked King (The Folk of the Air, #2)', 'Holly Black'], ['Gild (The Plated Prisoner, #1)', 'Raven Kennedy'], ['One Last Stop (Paperback)', 'Casey McQuiston'], ['A Kingdom of Flesh and Fire (Blood and Ash, #2)', 'Jennifer L. Armentrout'], ['The Fine Print (Dreamland Billionaires, #1)', 'Lauren Asher'], ['The Kiss Quotient (The Kiss Quotient, #1)', 'Helen Hoang'], ['The Secret History (Paperback)', 'Donna Tartt'], ['The Bridge Kingdom (The Bridge Kingdom, #1)', 'Danielle L. Jensen'], ['The Awakening (Zodiac Academy, #1)', 'Caroline Peckham'], ['The Queen of Nothing (The Folk of the Air, #3)', 'Holly Black'], ['Aristotle and Dante Discover the Secrets of the Universe (Aristotle and Dante, #1)', 'Benjamin Alire Sáenz'], ['Where the Crawdads Sing (ebook)', 'Delia Owens'], ['Malibu Rising (Hardcover)', 'Taylor Jenkins Reid'], ['If We Were Villains (Hardcover)', 'M.L. Rio'], ['Ninth House (Alex Stern, #1)', 'Leigh Bardugo'], ['Siege and Storm (The Shadow and Bone Trilogy, #2)', 'Leigh Bardugo'], ['Furyborn (Empirium, #1)', 'Claire Legrand'], ['Ruin and Rising (The Shadow and Bone Trilogy, #3)', 'Leigh Bardugo'], ['Heartless (Hardcover)', 'Marissa Meyer'], ['An Ember in the Ashes (An Ember in the Ashes, #1)', 'Sabaa Tahir'], ['Legend (Legend, #1)', 'Marie Lu'], ['The Night Circus (Hardcover)', 'Erin Morgenstern'], ['The Crown of Gilded Bones (Blood and Ash, #3)', 'Jennifer L. Armentrout'], ['The Poppy War (The Poppy War, #1)', 'R.F. Kuang'], ['Renegades (Renegades, #1)', 'Marissa Meyer'], ['Den of Vipers (Kindle Edition)', 'K.A. Knight'], ['A Darker Shade of Magic (Shades of Magic, #1)', 'V.E. Schwab'], ['All the Bright Places (Hardcover)', 'Jennifer Niven'], ['Crave (Crave, #1)', 'Tracy Wolff'], [\"Corrupt (Devil's Night, #1)\", 'Penelope Douglas'], ['Twisted Love (Twisted, #1)', 'Ana Huang'], ['Credence (Paperback)', 'Penelope Douglas'], ['A Court of Frost and Starlight (A Court of Thorns and Roses, #3.1)', 'Sarah J. Maas'], ['King of Scars (King of Scars, #1)', 'Leigh Bardugo'], ['Love and Other Words (Hardcover)', 'Christina Lauren'], ['Flock (The Ravenhood, #1)', 'Kate Stewart'], ['All the Light We Cannot See (Hardcover)', 'Anthony Doerr'], [\"A Winter's Promise (The Mirror Visitor #1)\", 'Christelle Dabos'], ['The Silent Patient (Hardcover)', 'Alex Michaelides'], ['Vicious (Villains, #1)', 'V.E. Schwab'], ['The Book Thief (Hardcover)', 'Markus Zusak']]\n"
     ]
    }
   ],
   "source": [
    "#testing\n",
    "book_list = []\n",
    "\n",
    "for page in range(1, 3, 1):\n",
    "    \n",
    "    page_url = \"https://www.goodreads.com/shelf/show/booktok?page=\" + str(page)\n",
    "    driver.get(page_url)\n",
    "    title = driver.find_elements(By.CLASS_NAME, \"bookTitle\")\n",
    "    author = driver.find_elements(By.CLASS_NAME, \"authorName\")\n",
    "  \n",
    "    for i in range(len(title)):\n",
    "        book_list.append([title[i].text, author[i].text])\n",
    "  \n",
    "print(book_list)\n",
    "        "
   ]
  },
  {
   "cell_type": "code",
   "execution_count": 24,
   "id": "4aadeb17",
   "metadata": {},
   "outputs": [
    {
     "name": "stdout",
     "output_type": "stream",
     "text": [
      "<selenium.webdriver.remote.webelement.WebElement (session=\"09d78b270073467952613301e14d6c3a\", element=\"22e52f86-2fcb-40e4-b0d6-0f4428cf1a30\")>\n"
     ]
    }
   ],
   "source": [
    "print(titles)"
   ]
  }
 ],
 "metadata": {
  "kernelspec": {
   "display_name": "Python 3 (ipykernel)",
   "language": "python",
   "name": "python3"
  },
  "language_info": {
   "codemirror_mode": {
    "name": "ipython",
    "version": 3
   },
   "file_extension": ".py",
   "mimetype": "text/x-python",
   "name": "python",
   "nbconvert_exporter": "python",
   "pygments_lexer": "ipython3",
   "version": "3.9.7"
  }
 },
 "nbformat": 4,
 "nbformat_minor": 5
}
